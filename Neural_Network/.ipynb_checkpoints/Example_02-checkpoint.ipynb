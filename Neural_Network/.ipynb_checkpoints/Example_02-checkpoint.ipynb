{
 "cells": [
  {
   "cell_type": "code",
   "execution_count": 56,
   "metadata": {
    "id": "GTtghGM-fvTg"
   },
   "outputs": [],
   "source": [
    "#!pip install tensorflow_transform"
   ]
  },
  {
   "cell_type": "code",
   "execution_count": 57,
   "metadata": {
    "id": "Xx8By4d9VCPK"
   },
   "outputs": [],
   "source": [
    "import pandas as pd\n",
    "import numpy as np\n",
    "import tensorflow as tf\n",
    "from tensorflow import keras\n",
    "#import tensorflow_transform as ttf"
   ]
  },
  {
   "cell_type": "code",
   "execution_count": 58,
   "metadata": {
    "id": "AprewEgAVLDU"
   },
   "outputs": [],
   "source": [
    "data=pd.read_csv('test_data_set_1.csv', header=0)"
   ]
  },
  {
   "cell_type": "code",
   "execution_count": 59,
   "metadata": {
    "id": "Nx_XW-xeVM25"
   },
   "outputs": [],
   "source": [
    "def split_data(X,y,split=0.1):\n",
    "  temp =np.random.choice(list(range(len(y))), size=int(len(y)*split), replace = False)\n",
    "\n",
    "  test_X = pd.DataFrame.from_dict({k: v[temp] for k,v in X.items()})\n",
    "  #train_X = {k: np.delete(v,temp) for k,v in X.items()}\n",
    "  train_X = pd.DataFrame.from_dict({k: v.drop(temp) for k,v in X.items()})\n",
    "\n",
    "  test_y = y[temp]\n",
    "  #train_y =np.delete(y, temp)\n",
    "  train_y = y.drop(temp)\n",
    "\n",
    "  return train_X, test_X, train_y, test_y\n",
    "\n",
    "\n",
    "#dd=data.drop(['A','x'], axis = 1)\n",
    "y = data['A']\n",
    "X = data.drop(['A'], axis = 1)\n",
    "train_X, test_X, train_y, test_y = split_data(X,y)"
   ]
  },
  {
   "cell_type": "code",
   "execution_count": 60,
   "metadata": {
    "id": "MBKp9Hw2YRaP"
   },
   "outputs": [],
   "source": [
    "def create_model():\n",
    "    input = tf.keras.Input(shape=(3))\n",
    "    layer = tf.keras.layers.Dense(8, activation = 'relu')(input)\n",
    "    output = tf.keras.layers.Dense(1, activation = 'linear')(layer)\n",
    "    model = tf.keras.Model(inputs=[input], outputs=output, name=\"testmodel\")\n",
    "    model.compile(optimizer = tf.keras.optimizers.Adam(.02),\n",
    "                        loss = tf.keras.losses.MeanSquaredError())\n",
    "    return model"
   ]
  },
  {
   "cell_type": "code",
   "execution_count": 67,
   "metadata": {
    "colab": {
     "base_uri": "https://localhost:8080/"
    },
    "id": "AvqqrfD8eL7S",
    "outputId": "54718873-5ffa-4f43-bc92-691c9cf19cc1"
   },
   "outputs": [
    {
     "name": "stdout",
     "output_type": "stream",
     "text": [
      "Model: \"testmodel\"\n",
      "_________________________________________________________________\n",
      " Layer (type)                Output Shape              Param #   \n",
      "=================================================================\n",
      " input_15 (InputLayer)       [(None, 3)]               0         \n",
      "                                                                 \n",
      " dense_28 (Dense)            (None, 8)                 32        \n",
      "                                                                 \n",
      " dense_29 (Dense)            (None, 1)                 9         \n",
      "                                                                 \n",
      "=================================================================\n",
      "Total params: 41\n",
      "Trainable params: 41\n",
      "Non-trainable params: 0\n",
      "_________________________________________________________________\n"
     ]
    }
   ],
   "source": [
    "model_test = create_model()\n",
    "model_test.summary()"
   ]
  },
  {
   "cell_type": "code",
   "execution_count": 68,
   "metadata": {
    "colab": {
     "base_uri": "https://localhost:8080/"
    },
    "id": "kbB9yGc-ehF5",
    "outputId": "38a102c3-b891-4c5c-b21d-e8c39740c479"
   },
   "outputs": [
    {
     "name": "stdout",
     "output_type": "stream",
     "text": [
      "Epoch 1/50\n",
      "2/2 [==============================] - 1s 251ms/step - loss: 2080.3188 - val_loss: 342.9461\n",
      "Epoch 2/50\n",
      "2/2 [==============================] - 0s 41ms/step - loss: 369.6836 - val_loss: 10.1533\n",
      "Epoch 3/50\n",
      "2/2 [==============================] - 0s 53ms/step - loss: 37.8037 - val_loss: 181.5337\n",
      "Epoch 4/50\n",
      "2/2 [==============================] - 0s 45ms/step - loss: 327.5435 - val_loss: 319.8624\n",
      "Epoch 5/50\n",
      "2/2 [==============================] - 0s 37ms/step - loss: 481.0404 - val_loss: 261.0273\n",
      "Epoch 6/50\n",
      "2/2 [==============================] - 0s 38ms/step - loss: 367.6183 - val_loss: 124.1719\n",
      "Epoch 7/50\n",
      "2/2 [==============================] - 0s 38ms/step - loss: 165.6356 - val_loss: 28.2006\n",
      "Epoch 8/50\n",
      "2/2 [==============================] - 0s 37ms/step - loss: 33.7666 - val_loss: 12.3402\n",
      "Epoch 9/50\n",
      "2/2 [==============================] - 0s 59ms/step - loss: 13.5875 - val_loss: 49.5503\n",
      "Epoch 10/50\n",
      "2/2 [==============================] - 0s 45ms/step - loss: 65.9061 - val_loss: 88.4933\n",
      "Epoch 11/50\n",
      "2/2 [==============================] - 0s 43ms/step - loss: 116.7813 - val_loss: 92.9749\n",
      "Epoch 12/50\n",
      "2/2 [==============================] - 0s 40ms/step - loss: 112.9212 - val_loss: 62.8481\n",
      "Epoch 13/50\n",
      "2/2 [==============================] - 0s 36ms/step - loss: 71.4904 - val_loss: 27.3741\n",
      "Epoch 14/50\n",
      "2/2 [==============================] - 0s 41ms/step - loss: 26.7024 - val_loss: 10.3453\n",
      "Epoch 15/50\n",
      "2/2 [==============================] - 0s 30ms/step - loss: 9.8418 - val_loss: 12.1197\n",
      "Epoch 16/50\n",
      "2/2 [==============================] - 0s 25ms/step - loss: 17.9929 - val_loss: 20.5776\n",
      "Epoch 17/50\n",
      "2/2 [==============================] - 0s 31ms/step - loss: 31.0445 - val_loss: 23.9168\n",
      "Epoch 18/50\n",
      "2/2 [==============================] - 0s 34ms/step - loss: 34.3447 - val_loss: 19.5783\n",
      "Epoch 19/50\n",
      "2/2 [==============================] - 0s 32ms/step - loss: 26.1088 - val_loss: 12.5738\n",
      "Epoch 20/50\n",
      "2/2 [==============================] - 0s 30ms/step - loss: 14.9859 - val_loss: 9.2068\n",
      "Epoch 21/50\n",
      "2/2 [==============================] - 0s 34ms/step - loss: 8.9985 - val_loss: 10.7739\n",
      "Epoch 22/50\n",
      "2/2 [==============================] - 0s 25ms/step - loss: 9.7006 - val_loss: 14.0977\n",
      "Epoch 23/50\n",
      "2/2 [==============================] - 0s 27ms/step - loss: 13.0665 - val_loss: 15.7453\n",
      "Epoch 24/50\n",
      "2/2 [==============================] - 0s 27ms/step - loss: 14.6693 - val_loss: 14.7358\n",
      "Epoch 25/50\n",
      "2/2 [==============================] - 0s 26ms/step - loss: 13.1108 - val_loss: 12.3837\n",
      "Epoch 26/50\n",
      "2/2 [==============================] - 0s 29ms/step - loss: 10.4017 - val_loss: 10.0293\n",
      "Epoch 27/50\n",
      "2/2 [==============================] - 0s 28ms/step - loss: 8.2977 - val_loss: 9.0389\n",
      "Epoch 28/50\n",
      "2/2 [==============================] - 0s 30ms/step - loss: 8.1613 - val_loss: 9.1766\n",
      "Epoch 29/50\n",
      "2/2 [==============================] - 0s 28ms/step - loss: 9.4463 - val_loss: 9.4748\n",
      "Epoch 30/50\n",
      "2/2 [==============================] - 0s 30ms/step - loss: 9.9991 - val_loss: 9.2812\n",
      "Epoch 31/50\n",
      "2/2 [==============================] - 0s 25ms/step - loss: 9.3968 - val_loss: 8.9360\n",
      "Epoch 32/50\n",
      "2/2 [==============================] - 0s 26ms/step - loss: 8.3122 - val_loss: 9.0304\n",
      "Epoch 33/50\n",
      "2/2 [==============================] - 0s 24ms/step - loss: 7.9118 - val_loss: 9.6639\n",
      "Epoch 34/50\n",
      "2/2 [==============================] - 0s 38ms/step - loss: 8.2676 - val_loss: 10.2913\n",
      "Epoch 35/50\n",
      "2/2 [==============================] - 0s 25ms/step - loss: 8.7479 - val_loss: 10.3663\n",
      "Epoch 36/50\n",
      "2/2 [==============================] - 0s 28ms/step - loss: 8.7353 - val_loss: 9.8782\n",
      "Epoch 37/50\n",
      "2/2 [==============================] - 0s 33ms/step - loss: 8.1401 - val_loss: 9.1778\n",
      "Epoch 38/50\n",
      "2/2 [==============================] - 0s 25ms/step - loss: 7.7140 - val_loss: 8.7355\n",
      "Epoch 39/50\n",
      "2/2 [==============================] - 0s 30ms/step - loss: 7.9504 - val_loss: 8.7659\n",
      "Epoch 40/50\n",
      "2/2 [==============================] - 0s 31ms/step - loss: 8.6038 - val_loss: 8.8314\n",
      "Epoch 41/50\n",
      "2/2 [==============================] - 0s 30ms/step - loss: 8.8339 - val_loss: 8.6984\n",
      "Epoch 42/50\n",
      "2/2 [==============================] - 0s 29ms/step - loss: 8.3334 - val_loss: 8.6341\n",
      "Epoch 43/50\n",
      "2/2 [==============================] - 0s 26ms/step - loss: 7.6608 - val_loss: 8.9861\n",
      "Epoch 44/50\n",
      "2/2 [==============================] - 0s 27ms/step - loss: 7.8306 - val_loss: 9.6157\n",
      "Epoch 45/50\n",
      "2/2 [==============================] - 0s 26ms/step - loss: 8.2273 - val_loss: 9.8189\n",
      "Epoch 46/50\n",
      "2/2 [==============================] - 0s 27ms/step - loss: 8.2725 - val_loss: 9.4054\n",
      "Epoch 47/50\n",
      "2/2 [==============================] - 0s 27ms/step - loss: 7.8617 - val_loss: 8.8029\n",
      "Epoch 48/50\n",
      "2/2 [==============================] - 0s 27ms/step - loss: 7.6076 - val_loss: 8.4732\n",
      "Epoch 49/50\n",
      "2/2 [==============================] - 0s 27ms/step - loss: 7.7794 - val_loss: 8.4009\n",
      "Epoch 50/50\n",
      "2/2 [==============================] - 0s 27ms/step - loss: 7.8526 - val_loss: 8.3731\n"
     ]
    },
    {
     "data": {
      "text/plain": [
       "<keras.callbacks.History at 0x7fe2f76ff990>"
      ]
     },
     "execution_count": 68,
     "metadata": {},
     "output_type": "execute_result"
    }
   ],
   "source": [
    "model_test.fit(train_X,train_y, validation_data = (test_X, test_y), epochs = 50)"
   ]
  },
  {
   "cell_type": "code",
   "execution_count": 42,
   "metadata": {
    "id": "6W2ICug4h8jW"
   },
   "outputs": [],
   "source": [
    "model_test.save('trained_model.h5', save_format='h5')"
   ]
  },
  {
   "cell_type": "code",
   "execution_count": null,
   "metadata": {
    "id": "qA1AC7zmkF9G"
   },
   "outputs": [],
   "source": []
  }
 ],
 "metadata": {
  "colab": {
   "collapsed_sections": [],
   "name": "Example_02.ipynb",
   "provenance": []
  },
  "kernelspec": {
   "display_name": "Python 3 (ipykernel)",
   "language": "python",
   "name": "python3"
  },
  "language_info": {
   "codemirror_mode": {
    "name": "ipython",
    "version": 3
   },
   "file_extension": ".py",
   "mimetype": "text/x-python",
   "name": "python",
   "nbconvert_exporter": "python",
   "pygments_lexer": "ipython3",
   "version": "3.9.7"
  }
 },
 "nbformat": 4,
 "nbformat_minor": 1
}
