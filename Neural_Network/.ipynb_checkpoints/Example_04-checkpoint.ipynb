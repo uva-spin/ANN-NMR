{
 "cells": [
  {
   "cell_type": "code",
   "execution_count": 29,
   "metadata": {
    "id": "FZ0L7j9JUbRm"
   },
   "outputs": [],
   "source": [
    "import tensorflow as tf\n",
    "from tensorflow import keras\n",
    "# Basic Template (a layer that takes one input and adds 1 to it): \n",
    "\n",
    "class AdditionLayer(tf.keras.layers.Layer):\n",
    "    def __init__(self):\n",
    "        super(AdditionLayer, self).__init__()\n",
    "\t\t\n",
    "    def call(self, first_input, training=False):\n",
    "        output = first_input + 1\n",
    "        return output"
   ]
  },
  {
   "cell_type": "code",
   "execution_count": 30,
   "metadata": {
    "id": "DKjK4wDgWtmr"
   },
   "outputs": [],
   "source": [
    "#Adding this layer onto an example model\n",
    "def create_model():\n",
    "    model = keras.models.Sequential()\n",
    "    model.add(keras.layers.Dense(16, input_dim = 3, activation = 'relu')) # Hidden Layer\n",
    "    model.add(keras.layers.Dense(1, activation = 'linear')) # Output Layer\n",
    "    model.add(AdditionLayer())\n",
    "    sgd = tf.optimizers.SGD(learning_rate=0.01, name = 'sgd')\n",
    "    model.compile(optimizer = sgd, loss = 'mean_squared_error')\n",
    "    return model"
   ]
  },
  {
   "cell_type": "code",
   "execution_count": 31,
   "metadata": {
    "id": "5L8Z8_5RkcoR"
   },
   "outputs": [],
   "source": [
    "import pandas as pd\n",
    "import numpy as np\n",
    "from sklearn.model_selection import train_test_split\n",
    "\n",
    "data=pd.read_csv('test_data_set_1.csv',header=0)\n",
    "\n",
    "train, test = train_test_split(data,test_size=0.3)\n",
    "\n",
    "train_features=train.iloc[:,:-1]\n",
    "train_labels=train.iloc[:,-1]\n",
    "\n",
    "test_features=test.iloc[:,:-1]\n",
    "test_labels=test.iloc[:,-1]"
   ]
  },
  {
   "cell_type": "code",
   "execution_count": 32,
   "metadata": {
    "colab": {
     "base_uri": "https://localhost:8080/"
    },
    "id": "yAa-4delk24O",
    "outputId": "ceed581e-a16c-4b49-a994-e9db896f158c"
   },
   "outputs": [
    {
     "name": "stdout",
     "output_type": "stream",
     "text": [
      "Epoch 1/50\n",
      "1/1 [==============================] - 0s 351ms/step - loss: 869.5361 - val_loss: 61060964352.0000\n",
      "Epoch 2/50\n",
      "1/1 [==============================] - 0s 27ms/step - loss: 61177626624.0000 - val_loss: 18486548.0000\n",
      "Epoch 3/50\n",
      "1/1 [==============================] - 0s 23ms/step - loss: 18485988.0000 - val_loss: 17754492.0000\n",
      "Epoch 4/50\n",
      "1/1 [==============================] - 0s 25ms/step - loss: 17753940.0000 - val_loss: 17051426.0000\n",
      "Epoch 5/50\n",
      "1/1 [==============================] - 0s 25ms/step - loss: 17050888.0000 - val_loss: 16376204.0000\n",
      "Epoch 6/50\n",
      "1/1 [==============================] - 0s 21ms/step - loss: 16375677.0000 - val_loss: 15727718.0000\n",
      "Epoch 7/50\n",
      "1/1 [==============================] - 0s 26ms/step - loss: 15727201.0000 - val_loss: 15104912.0000\n",
      "Epoch 8/50\n",
      "1/1 [==============================] - 0s 28ms/step - loss: 15104407.0000 - val_loss: 14506767.0000\n",
      "Epoch 9/50\n",
      "1/1 [==============================] - 0s 21ms/step - loss: 14506272.0000 - val_loss: 13932311.0000\n",
      "Epoch 10/50\n",
      "1/1 [==============================] - 0s 27ms/step - loss: 13931828.0000 - val_loss: 13380602.0000\n",
      "Epoch 11/50\n",
      "1/1 [==============================] - 0s 21ms/step - loss: 13380128.0000 - val_loss: 12850741.0000\n",
      "Epoch 12/50\n",
      "1/1 [==============================] - 0s 22ms/step - loss: 12850279.0000 - val_loss: 12341863.0000\n",
      "Epoch 13/50\n",
      "1/1 [==============================] - 0s 25ms/step - loss: 12341409.0000 - val_loss: 11853136.0000\n",
      "Epoch 14/50\n",
      "1/1 [==============================] - 0s 21ms/step - loss: 11852692.0000 - val_loss: 11383762.0000\n",
      "Epoch 15/50\n",
      "1/1 [==============================] - 0s 46ms/step - loss: 11383328.0000 - val_loss: 10932975.0000\n",
      "Epoch 16/50\n",
      "1/1 [==============================] - 0s 22ms/step - loss: 10932549.0000 - val_loss: 10500039.0000\n",
      "Epoch 17/50\n",
      "1/1 [==============================] - 0s 26ms/step - loss: 10499622.0000 - val_loss: 10084246.0000\n",
      "Epoch 18/50\n",
      "1/1 [==============================] - 0s 24ms/step - loss: 10083839.0000 - val_loss: 9684920.0000\n",
      "Epoch 19/50\n",
      "1/1 [==============================] - 0s 23ms/step - loss: 9684521.0000 - val_loss: 9301406.0000\n",
      "Epoch 20/50\n",
      "1/1 [==============================] - 0s 27ms/step - loss: 9301016.0000 - val_loss: 8933080.0000\n",
      "Epoch 21/50\n",
      "1/1 [==============================] - 0s 20ms/step - loss: 8932698.0000 - val_loss: 8579338.0000\n",
      "Epoch 22/50\n",
      "1/1 [==============================] - 0s 23ms/step - loss: 8578965.0000 - val_loss: 8239605.0000\n",
      "Epoch 23/50\n",
      "1/1 [==============================] - 0s 29ms/step - loss: 8239239.5000 - val_loss: 7913325.0000\n",
      "Epoch 24/50\n",
      "1/1 [==============================] - 0s 22ms/step - loss: 7912967.5000 - val_loss: 7599966.0000\n",
      "Epoch 25/50\n",
      "1/1 [==============================] - 0s 23ms/step - loss: 7599616.0000 - val_loss: 7299016.0000\n",
      "Epoch 26/50\n",
      "1/1 [==============================] - 0s 25ms/step - loss: 7298673.5000 - val_loss: 7009982.5000\n",
      "Epoch 27/50\n",
      "1/1 [==============================] - 0s 25ms/step - loss: 7009648.0000 - val_loss: 6732395.5000\n",
      "Epoch 28/50\n",
      "1/1 [==============================] - 0s 24ms/step - loss: 6732068.5000 - val_loss: 6465800.5000\n",
      "Epoch 29/50\n",
      "1/1 [==============================] - 0s 25ms/step - loss: 6465480.5000 - val_loss: 6209762.0000\n",
      "Epoch 30/50\n",
      "1/1 [==============================] - 0s 20ms/step - loss: 6209448.5000 - val_loss: 5963863.0000\n",
      "Epoch 31/50\n",
      "1/1 [==============================] - 0s 22ms/step - loss: 5963556.0000 - val_loss: 5727701.0000\n",
      "Epoch 32/50\n",
      "1/1 [==============================] - 0s 21ms/step - loss: 5727401.0000 - val_loss: 5500891.0000\n",
      "Epoch 33/50\n",
      "1/1 [==============================] - 0s 23ms/step - loss: 5500598.0000 - val_loss: 5283063.0000\n",
      "Epoch 34/50\n",
      "1/1 [==============================] - 0s 21ms/step - loss: 5282776.5000 - val_loss: 5073861.0000\n",
      "Epoch 35/50\n",
      "1/1 [==============================] - 0s 48ms/step - loss: 5073581.5000 - val_loss: 4872943.0000\n",
      "Epoch 36/50\n",
      "1/1 [==============================] - 0s 21ms/step - loss: 4872668.5000 - val_loss: 4679981.0000\n",
      "Epoch 37/50\n",
      "1/1 [==============================] - 0s 25ms/step - loss: 4679713.0000 - val_loss: 4494660.0000\n",
      "Epoch 38/50\n",
      "1/1 [==============================] - 0s 24ms/step - loss: 4494398.0000 - val_loss: 4316678.5000\n",
      "Epoch 39/50\n",
      "1/1 [==============================] - 0s 22ms/step - loss: 4316422.0000 - val_loss: 4145744.2500\n",
      "Epoch 40/50\n",
      "1/1 [==============================] - 0s 35ms/step - loss: 4145494.0000 - val_loss: 3981579.2500\n",
      "Epoch 41/50\n",
      "1/1 [==============================] - 0s 22ms/step - loss: 3981334.5000 - val_loss: 3823914.5000\n",
      "Epoch 42/50\n",
      "1/1 [==============================] - 0s 24ms/step - loss: 3823675.2500 - val_loss: 3672493.5000\n",
      "Epoch 43/50\n",
      "1/1 [==============================] - 0s 27ms/step - loss: 3672259.7500 - val_loss: 3527068.7500\n",
      "Epoch 44/50\n",
      "1/1 [==============================] - 0s 23ms/step - loss: 3526840.2500 - val_loss: 3387402.5000\n",
      "Epoch 45/50\n",
      "1/1 [==============================] - 0s 24ms/step - loss: 3387178.7500 - val_loss: 3253266.7500\n",
      "Epoch 46/50\n",
      "1/1 [==============================] - 0s 26ms/step - loss: 3253048.2500 - val_loss: 3124443.0000\n",
      "Epoch 47/50\n",
      "1/1 [==============================] - 0s 23ms/step - loss: 3124229.7500 - val_loss: 3000720.5000\n",
      "Epoch 48/50\n",
      "1/1 [==============================] - 0s 23ms/step - loss: 3000512.0000 - val_loss: 2881897.5000\n",
      "Epoch 49/50\n",
      "1/1 [==============================] - 0s 21ms/step - loss: 2881694.0000 - val_loss: 2767779.7500\n",
      "Epoch 50/50\n",
      "1/1 [==============================] - 0s 23ms/step - loss: 2767580.7500 - val_loss: 2658180.7500\n"
     ]
    },
    {
     "data": {
      "text/plain": [
       "<keras.callbacks.History at 0x7faf3b844090>"
      ]
     },
     "execution_count": 32,
     "metadata": {},
     "output_type": "execute_result"
    }
   ],
   "source": [
    "# Generate model with untrained weights\n",
    "model = create_model()\n",
    "\n",
    "# Fit the model to training data\n",
    "model.fit(train_features,train_labels, epochs=50, batch_size=32, validation_split=0.1)"
   ]
  },
  {
   "cell_type": "code",
   "execution_count": 33,
   "metadata": {
    "colab": {
     "base_uri": "https://localhost:8080/"
    },
    "id": "cQPCXWpLlGGn",
    "outputId": "bb0c377d-5a2e-4d32-e94c-56fa84e7c734"
   },
   "outputs": [
    {
     "name": "stdout",
     "output_type": "stream",
     "text": [
      "1/1 [==============================] - 0s 15ms/step - loss: 2655480.5000\n"
     ]
    },
    {
     "data": {
      "text/plain": [
       "2655480.5"
      ]
     },
     "execution_count": 33,
     "metadata": {},
     "output_type": "execute_result"
    }
   ],
   "source": [
    "model.evaluate(test_features,test_labels)"
   ]
  }
 ],
 "metadata": {
  "colab": {
   "collapsed_sections": [],
   "name": "Example_04.ipynb",
   "provenance": []
  },
  "kernelspec": {
   "display_name": "Python 3 (ipykernel)",
   "language": "python",
   "name": "python3"
  },
  "language_info": {
   "codemirror_mode": {
    "name": "ipython",
    "version": 3
   },
   "file_extension": ".py",
   "mimetype": "text/x-python",
   "name": "python",
   "nbconvert_exporter": "python",
   "pygments_lexer": "ipython3",
   "version": "3.9.7"
  }
 },
 "nbformat": 4,
 "nbformat_minor": 1
}
