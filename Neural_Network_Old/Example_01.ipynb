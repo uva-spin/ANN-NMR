{
 "cells": [
  {
   "cell_type": "code",
   "execution_count": 2,
   "metadata": {},
   "outputs": [
    {
     "name": "stderr",
     "output_type": "stream",
     "text": [
      "2022-05-01 13:34:40.146951: W tensorflow/stream_executor/platform/default/dso_loader.cc:64] Could not load dynamic library 'libcudart.so.11.0'; dlerror: libcudart.so.11.0: cannot open shared object file: No such file or directory; LD_LIBRARY_PATH: :/home/aristobot/LHAPDF/lib\n",
      "2022-05-01 13:34:40.146985: I tensorflow/stream_executor/cuda/cudart_stub.cc:29] Ignore above cudart dlerror if you do not have a GPU set up on your machine.\n"
     ]
    }
   ],
   "source": [
    "import pandas as pd\n",
    "import numpy as np\n",
    "import tensorflow as tf\n",
    "from tensorflow import keras"
   ]
  },
  {
   "cell_type": "code",
   "execution_count": 3,
   "metadata": {},
   "outputs": [],
   "source": [
    "data=pd.read_csv('test_data_set_1.csv',header=0)"
   ]
  },
  {
   "cell_type": "code",
   "execution_count": 4,
   "metadata": {},
   "outputs": [],
   "source": [
    "# Divide data into training and validation/test\n",
    "# Tensorflow doesn't provide data pre-processing therefore we are going to use sklearn library\n",
    "# sklearn provide handling 2-tuple form \n",
    "from sklearn.model_selection import train_test_split\n",
    "train, test = train_test_split(data,test_size=0.2)"
   ]
  },
  {
   "cell_type": "code",
   "execution_count": 19,
   "metadata": {},
   "outputs": [
    {
     "name": "stdout",
     "output_type": "stream",
     "text": [
      "34    1.147755e+01\n",
      "40    1.590444e+01\n",
      "20    3.963751e+00\n",
      "33    1.081006e+01\n",
      "30    8.928250e+00\n",
      "0     5.750000e-20\n",
      "17    2.866288e+00\n",
      "28    7.774307e+00\n",
      "37    1.360060e+01\n",
      "6     3.083965e-01\n",
      "43    1.838894e+01\n",
      "3     2.242056e-02\n",
      "22    4.795645e+00\n",
      "18    3.212123e+00\n",
      "19    3.577923e+00\n",
      "15    2.234121e+00\n",
      "46    2.105402e+01\n",
      "35    1.216514e+01\n",
      "27    7.227528e+00\n",
      "23    5.241757e+00\n",
      "32    1.016268e+01\n",
      "13    1.680170e+00\n",
      "31    9.535406e+00\n",
      "47    2.198249e+01\n",
      "38    1.434847e+01\n",
      "24    5.707998e+00\n",
      "2     1.858454e-03\n",
      "39    1.511641e+01\n",
      "49    2.389959e+01\n",
      "44    1.925724e+01\n",
      "45    2.014560e+01\n",
      "9     7.954086e-01\n",
      "48    2.293102e+01\n",
      "26    6.700882e+00\n",
      "25    6.194372e+00\n",
      "42    1.754070e+01\n",
      "5     1.817880e-01\n",
      "8     6.170612e-01\n",
      "41    1.671254e+01\n",
      "10    9.901329e-01\n",
      "Name: A, dtype: float64\n"
     ]
    }
   ],
   "source": [
    "#  data.iloc[min_row:max_row, min_col:max_col] or  data.iloc[min_row:max_row, directly specific col]\n",
    "#data_features=data.iloc[:,:-1]\n",
    "#data_labels=data.iloc[:,-1]\n",
    "\n",
    "train_features=train.iloc[:,:-1]\n",
    "train_labels=train.iloc[:,-1]\n",
    "test_features=test.iloc[:,:-1]\n",
    "test_labels=test.iloc[:,-1]"
   ]
  },
  {
   "cell_type": "code",
   "execution_count": 6,
   "metadata": {},
   "outputs": [],
   "source": [
    "# Normalizing data\n",
    "# This step is not necessary but highly recommended when we use NN\n",
    "\n",
    "from sklearn.pipeline import Pipeline\n",
    "# creating a generic pipline class\n",
    "from sklearn.preprocessing import StandardScaler\n",
    "# This is a function in sklearn which scales arrays or data-frames\n",
    "# from sklearn.impute import SimpleImputer\n",
    "# This one will handle if there are null cells in the data-frame\n",
    "# With the imputers we can define how we want to replace those null cells"
   ]
  },
  {
   "cell_type": "code",
   "execution_count": 7,
   "metadata": {},
   "outputs": [],
   "source": [
    "# Instantiation of the pipeline class. So the default would be Pipeline(here we want to define which methods to be used)\n",
    "pipe = Pipeline([('scalar',StandardScaler())])\n",
    "# Pipeline() -> Pipeline([]) because pipelines takes one array of 2-tuples and [] can take n tuples\n",
    "\n",
    "train_features_norm = pipe.fit_transform(train_features)\n",
    "test_features_norm = pipe.fit_transform(test_features)\n",
    "# This won't modify train or test features"
   ]
  },
  {
   "cell_type": "code",
   "execution_count": 8,
   "metadata": {},
   "outputs": [],
   "source": [
    "# We are going to use sequential model\n",
    "def create_model():\n",
    "    model = keras.models.Sequential()\n",
    "    # 1- nodes, 2-\n",
    "    model.add(keras.layers.Dense(8,input_dim = 3, activation = 'relu'))\n",
    "    #odel.add(keras.layers.Dense(1, activation = 'sigmoid'))\n",
    "    model.add(keras.layers.Dense(1, activation = 'linear'))\n",
    "    sgd = tf.optimizers.SGD(learning_rate=0.01, name = 'sgd')\n",
    "    #dg=tf.optimizers.SDG(learning_rate=0.01, momentum=0.0, nesterov=False, name='SGD')\n",
    "    model.compile(optimizer = sgd, loss = 'mean_squared_error')\n",
    "    return model\n",
    "\n",
    "# Decide activation function of the output layer should match the domain of what it's going to projects to"
   ]
  },
  {
   "cell_type": "code",
   "execution_count": 9,
   "metadata": {},
   "outputs": [
    {
     "name": "stdout",
     "output_type": "stream",
     "text": [
      "Model: \"sequential\"\n",
      "_________________________________________________________________\n",
      " Layer (type)                Output Shape              Param #   \n",
      "=================================================================\n",
      " dense (Dense)               (None, 8)                 32        \n",
      "                                                                 \n",
      " dense_1 (Dense)             (None, 1)                 9         \n",
      "                                                                 \n",
      "=================================================================\n",
      "Total params: 41\n",
      "Trainable params: 41\n",
      "Non-trainable params: 0\n",
      "_________________________________________________________________\n"
     ]
    },
    {
     "name": "stderr",
     "output_type": "stream",
     "text": [
      "2022-05-01 13:45:47.537196: W tensorflow/stream_executor/platform/default/dso_loader.cc:64] Could not load dynamic library 'libcuda.so.1'; dlerror: libcuda.so.1: cannot open shared object file: No such file or directory; LD_LIBRARY_PATH: :/home/aristobot/LHAPDF/lib\n",
      "2022-05-01 13:45:47.540552: W tensorflow/stream_executor/cuda/cuda_driver.cc:269] failed call to cuInit: UNKNOWN ERROR (303)\n",
      "2022-05-01 13:45:47.540576: I tensorflow/stream_executor/cuda/cuda_diagnostics.cc:156] kernel driver does not appear to be running on this host (aristobot-VirtualBox): /proc/driver/nvidia/version does not exist\n",
      "2022-05-01 13:45:47.540978: I tensorflow/core/platform/cpu_feature_guard.cc:151] This TensorFlow binary is optimized with oneAPI Deep Neural Network Library (oneDNN) to use the following CPU instructions in performance-critical operations:  AVX2\n",
      "To enable them in other operations, rebuild TensorFlow with the appropriate compiler flags.\n"
     ]
    }
   ],
   "source": [
    "create_model().summary()\n",
    "#keras.optimizers.SGD(learning_rate=0.01, name = 'sgd')"
   ]
  },
  {
   "cell_type": "markdown",
   "metadata": {},
   "source": [
    "model = create_model()"
   ]
  },
  {
   "cell_type": "code",
   "execution_count": 10,
   "metadata": {},
   "outputs": [],
   "source": [
    "model = create_model()"
   ]
  },
  {
   "cell_type": "code",
   "execution_count": 16,
   "metadata": {
    "scrolled": true
   },
   "outputs": [
    {
     "name": "stdout",
     "output_type": "stream",
     "text": [
      "Epoch 1/100\n",
      "2/2 [==============================] - 0s 24ms/step - loss: 0.3424\n",
      "Epoch 2/100\n",
      "2/2 [==============================] - 0s 19ms/step - loss: 0.3432\n",
      "Epoch 3/100\n",
      "2/2 [==============================] - 0s 6ms/step - loss: 0.3397\n",
      "Epoch 4/100\n",
      "2/2 [==============================] - 0s 5ms/step - loss: 0.3404\n",
      "Epoch 5/100\n",
      "2/2 [==============================] - 0s 11ms/step - loss: 0.3297\n",
      "Epoch 6/100\n",
      "2/2 [==============================] - 0s 6ms/step - loss: 0.3326\n",
      "Epoch 7/100\n",
      "2/2 [==============================] - 0s 7ms/step - loss: 0.3321\n",
      "Epoch 8/100\n",
      "2/2 [==============================] - 0s 9ms/step - loss: 0.3274\n",
      "Epoch 9/100\n",
      "2/2 [==============================] - 0s 16ms/step - loss: 0.3194\n",
      "Epoch 10/100\n",
      "2/2 [==============================] - 0s 7ms/step - loss: 0.3276\n",
      "Epoch 11/100\n",
      "2/2 [==============================] - 0s 4ms/step - loss: 0.3144\n",
      "Epoch 12/100\n",
      "2/2 [==============================] - 0s 6ms/step - loss: 0.3277\n",
      "Epoch 13/100\n",
      "2/2 [==============================] - 0s 6ms/step - loss: 0.3371\n",
      "Epoch 14/100\n",
      "2/2 [==============================] - 0s 7ms/step - loss: 0.3023\n",
      "Epoch 15/100\n",
      "2/2 [==============================] - 0s 4ms/step - loss: 0.3070\n",
      "Epoch 16/100\n",
      "2/2 [==============================] - 0s 6ms/step - loss: 0.3164\n",
      "Epoch 17/100\n",
      "2/2 [==============================] - 0s 6ms/step - loss: 0.2992\n",
      "Epoch 18/100\n",
      "2/2 [==============================] - 0s 6ms/step - loss: 0.3026\n",
      "Epoch 19/100\n",
      "2/2 [==============================] - 0s 16ms/step - loss: 0.2968\n",
      "Epoch 20/100\n",
      "2/2 [==============================] - 0s 8ms/step - loss: 0.3034\n",
      "Epoch 21/100\n",
      "2/2 [==============================] - 0s 8ms/step - loss: 0.2888\n",
      "Epoch 22/100\n",
      "2/2 [==============================] - 0s 11ms/step - loss: 0.2849\n",
      "Epoch 23/100\n",
      "2/2 [==============================] - 0s 11ms/step - loss: 0.2839\n",
      "Epoch 24/100\n",
      "2/2 [==============================] - 0s 14ms/step - loss: 0.2803\n",
      "Epoch 25/100\n",
      "2/2 [==============================] - 0s 15ms/step - loss: 0.2800\n",
      "Epoch 26/100\n",
      "2/2 [==============================] - 0s 9ms/step - loss: 0.2854\n",
      "Epoch 27/100\n",
      "2/2 [==============================] - 0s 8ms/step - loss: 0.2822\n",
      "Epoch 28/100\n",
      "2/2 [==============================] - 0s 15ms/step - loss: 0.2872\n",
      "Epoch 29/100\n",
      "2/2 [==============================] - 0s 9ms/step - loss: 0.2945\n",
      "Epoch 30/100\n",
      "2/2 [==============================] - 0s 5ms/step - loss: 0.2834\n",
      "Epoch 31/100\n",
      "2/2 [==============================] - 0s 7ms/step - loss: 0.2800\n",
      "Epoch 32/100\n",
      "2/2 [==============================] - 0s 3ms/step - loss: 0.2799\n",
      "Epoch 33/100\n",
      "2/2 [==============================] - 0s 7ms/step - loss: 0.2837\n",
      "Epoch 34/100\n",
      "2/2 [==============================] - 0s 4ms/step - loss: 0.3355\n",
      "Epoch 35/100\n",
      "2/2 [==============================] - 0s 13ms/step - loss: 0.2680\n",
      "Epoch 36/100\n",
      "2/2 [==============================] - 0s 3ms/step - loss: 0.2877\n",
      "Epoch 37/100\n",
      "2/2 [==============================] - 0s 4ms/step - loss: 0.2742\n",
      "Epoch 38/100\n",
      "2/2 [==============================] - 0s 8ms/step - loss: 0.2953\n",
      "Epoch 39/100\n",
      "2/2 [==============================] - 0s 11ms/step - loss: 0.2649\n",
      "Epoch 40/100\n",
      "2/2 [==============================] - 0s 3ms/step - loss: 0.2640\n",
      "Epoch 41/100\n",
      "2/2 [==============================] - 0s 6ms/step - loss: 0.2554\n",
      "Epoch 42/100\n",
      "2/2 [==============================] - 0s 5ms/step - loss: 0.2561\n",
      "Epoch 43/100\n",
      "2/2 [==============================] - 0s 5ms/step - loss: 0.2548\n",
      "Epoch 44/100\n",
      "2/2 [==============================] - 0s 6ms/step - loss: 0.2556\n",
      "Epoch 45/100\n",
      "2/2 [==============================] - 0s 10ms/step - loss: 0.2986\n",
      "Epoch 46/100\n",
      "2/2 [==============================] - 0s 8ms/step - loss: 0.3226\n",
      "Epoch 47/100\n",
      "2/2 [==============================] - 0s 7ms/step - loss: 0.2506\n",
      "Epoch 48/100\n",
      "2/2 [==============================] - 0s 9ms/step - loss: 0.2540\n",
      "Epoch 49/100\n",
      "2/2 [==============================] - 0s 3ms/step - loss: 0.2497\n",
      "Epoch 50/100\n",
      "2/2 [==============================] - 0s 6ms/step - loss: 0.2510\n",
      "Epoch 51/100\n",
      "2/2 [==============================] - 0s 8ms/step - loss: 0.2515\n",
      "Epoch 52/100\n",
      "2/2 [==============================] - 0s 5ms/step - loss: 0.2499\n",
      "Epoch 53/100\n",
      "2/2 [==============================] - 0s 3ms/step - loss: 0.2548\n",
      "Epoch 54/100\n",
      "2/2 [==============================] - 0s 4ms/step - loss: 0.2733\n",
      "Epoch 55/100\n",
      "2/2 [==============================] - 0s 14ms/step - loss: 0.2678\n",
      "Epoch 56/100\n",
      "2/2 [==============================] - 0s 7ms/step - loss: 0.2465\n",
      "Epoch 57/100\n",
      "2/2 [==============================] - 0s 3ms/step - loss: 0.2505\n",
      "Epoch 58/100\n",
      "2/2 [==============================] - 0s 6ms/step - loss: 0.2363\n",
      "Epoch 59/100\n",
      "2/2 [==============================] - 0s 3ms/step - loss: 0.2335\n",
      "Epoch 60/100\n",
      "2/2 [==============================] - 0s 9ms/step - loss: 0.2388\n",
      "Epoch 61/100\n",
      "2/2 [==============================] - 0s 16ms/step - loss: 0.2433\n",
      "Epoch 62/100\n",
      "2/2 [==============================] - 0s 4ms/step - loss: 0.2299\n",
      "Epoch 63/100\n",
      "2/2 [==============================] - 0s 5ms/step - loss: 0.2297\n",
      "Epoch 64/100\n",
      "2/2 [==============================] - 0s 4ms/step - loss: 0.2281\n",
      "Epoch 65/100\n",
      "2/2 [==============================] - 0s 6ms/step - loss: 0.2242\n",
      "Epoch 66/100\n",
      "2/2 [==============================] - 0s 15ms/step - loss: 0.2241\n",
      "Epoch 67/100\n",
      "2/2 [==============================] - 0s 10ms/step - loss: 0.2230\n",
      "Epoch 68/100\n",
      "2/2 [==============================] - 0s 13ms/step - loss: 0.2238\n",
      "Epoch 69/100\n",
      "2/2 [==============================] - 0s 8ms/step - loss: 0.2402\n",
      "Epoch 70/100\n",
      "2/2 [==============================] - 0s 9ms/step - loss: 0.2416\n",
      "Epoch 71/100\n",
      "2/2 [==============================] - 0s 7ms/step - loss: 0.2228\n",
      "Epoch 72/100\n",
      "2/2 [==============================] - 0s 8ms/step - loss: 0.2238\n",
      "Epoch 73/100\n",
      "2/2 [==============================] - 0s 4ms/step - loss: 0.2319\n",
      "Epoch 74/100\n",
      "2/2 [==============================] - 0s 6ms/step - loss: 0.2247\n",
      "Epoch 75/100\n",
      "2/2 [==============================] - 0s 6ms/step - loss: 0.2283\n",
      "Epoch 76/100\n",
      "2/2 [==============================] - 0s 5ms/step - loss: 0.2351\n",
      "Epoch 77/100\n",
      "2/2 [==============================] - 0s 12ms/step - loss: 0.2303\n",
      "Epoch 78/100\n",
      "2/2 [==============================] - 0s 5ms/step - loss: 0.2250\n",
      "Epoch 79/100\n",
      "2/2 [==============================] - 0s 5ms/step - loss: 0.2199\n",
      "Epoch 80/100\n",
      "2/2 [==============================] - 0s 3ms/step - loss: 0.2193\n",
      "Epoch 81/100\n",
      "2/2 [==============================] - 0s 4ms/step - loss: 0.2410\n",
      "Epoch 82/100\n",
      "2/2 [==============================] - 0s 5ms/step - loss: 0.2165\n",
      "Epoch 83/100\n",
      "2/2 [==============================] - 0s 14ms/step - loss: 0.2199\n",
      "Epoch 84/100\n",
      "2/2 [==============================] - 0s 6ms/step - loss: 0.2151\n",
      "Epoch 85/100\n",
      "2/2 [==============================] - 0s 6ms/step - loss: 0.2360\n",
      "Epoch 86/100\n",
      "2/2 [==============================] - 0s 10ms/step - loss: 0.2138\n",
      "Epoch 87/100\n",
      "2/2 [==============================] - 0s 9ms/step - loss: 0.2168\n",
      "Epoch 88/100\n",
      "2/2 [==============================] - 0s 5ms/step - loss: 0.2129\n",
      "Epoch 89/100\n",
      "2/2 [==============================] - 0s 4ms/step - loss: 0.2076\n",
      "Epoch 90/100\n",
      "2/2 [==============================] - 0s 10ms/step - loss: 0.2070\n",
      "Epoch 91/100\n",
      "2/2 [==============================] - 0s 17ms/step - loss: 0.2076\n",
      "Epoch 92/100\n",
      "2/2 [==============================] - 0s 6ms/step - loss: 0.2187\n",
      "Epoch 93/100\n",
      "2/2 [==============================] - 0s 5ms/step - loss: 0.2030\n",
      "Epoch 94/100\n",
      "2/2 [==============================] - 0s 3ms/step - loss: 0.2046\n",
      "Epoch 95/100\n",
      "2/2 [==============================] - 0s 7ms/step - loss: 0.2096\n",
      "Epoch 96/100\n",
      "2/2 [==============================] - 0s 10ms/step - loss: 0.2119\n",
      "Epoch 97/100\n",
      "2/2 [==============================] - 0s 4ms/step - loss: 0.2056\n",
      "Epoch 98/100\n",
      "2/2 [==============================] - 0s 7ms/step - loss: 0.2043\n",
      "Epoch 99/100\n",
      "2/2 [==============================] - 0s 6ms/step - loss: 0.2264\n",
      "Epoch 100/100\n",
      "2/2 [==============================] - 0s 7ms/step - loss: 0.2108\n"
     ]
    },
    {
     "data": {
      "text/plain": [
       "<keras.callbacks.History at 0x7f00d22b98e0>"
      ]
     },
     "execution_count": 16,
     "metadata": {},
     "output_type": "execute_result"
    }
   ],
   "source": [
    "model.fit(train_features_norm,train_labels, epochs=100)"
   ]
  },
  {
   "cell_type": "code",
   "execution_count": 17,
   "metadata": {},
   "outputs": [
    {
     "name": "stdout",
     "output_type": "stream",
     "text": [
      "1      0.000003\n",
      "29     8.341216\n",
      "12     1.431839\n",
      "14     1.947483\n",
      "16     2.540329\n",
      "21     4.369649\n",
      "4      0.082709\n",
      "36    12.872825\n",
      "7      0.454553\n",
      "11     1.202029\n",
      "Name: A, dtype: float64\n"
     ]
    }
   ],
   "source": [
    "model.predict(test_features)\n",
    "print(test_labels)"
   ]
  },
  {
   "cell_type": "code",
   "execution_count": 13,
   "metadata": {},
   "outputs": [
    {
     "name": "stdout",
     "output_type": "stream",
     "text": [
      "2/2 [==============================] - 0s 7ms/step - loss: 489771.4375\n"
     ]
    },
    {
     "data": {
      "text/plain": [
       "489771.4375"
      ]
     },
     "execution_count": 13,
     "metadata": {},
     "output_type": "execute_result"
    }
   ],
   "source": [
    "model.evaluate(train_features,train_labels)"
   ]
  },
  {
   "cell_type": "code",
   "execution_count": 13,
   "metadata": {},
   "outputs": [],
   "source": [
    "##  indepenent variables : x,y,z\n",
    "## dependendent : A\n",
    "## if we enter x=10, y=5, z=100, A=?"
   ]
  },
  {
   "cell_type": "code",
   "execution_count": 15,
   "metadata": {},
   "outputs": [
    {
     "data": {
      "text/plain": [
       "array([[ 436.61877],\n",
       "       [4300.255  ]], dtype=float32)"
      ]
     },
     "execution_count": 15,
     "metadata": {},
     "output_type": "execute_result"
    }
   ],
   "source": [
    "example1=pd.DataFrame([[10,5,100],[100,50,1000]])\n",
    "model.predict(example1)"
   ]
  },
  {
   "cell_type": "code",
   "execution_count": null,
   "metadata": {},
   "outputs": [],
   "source": []
  },
  {
   "cell_type": "code",
   "execution_count": null,
   "metadata": {},
   "outputs": [],
   "source": []
  }
 ],
 "metadata": {
  "kernelspec": {
   "display_name": "Python 3 (ipykernel)",
   "language": "python",
   "name": "python3"
  },
  "language_info": {
   "codemirror_mode": {
    "name": "ipython",
    "version": 3
   },
   "file_extension": ".py",
   "mimetype": "text/x-python",
   "name": "python",
   "nbconvert_exporter": "python",
   "pygments_lexer": "ipython3",
   "version": "3.9.7"
  }
 },
 "nbformat": 4,
 "nbformat_minor": 4
}
