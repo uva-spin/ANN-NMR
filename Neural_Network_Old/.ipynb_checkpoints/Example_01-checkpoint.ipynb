{
 "cells": [
  {
   "cell_type": "code",
   "execution_count": 1,
   "metadata": {},
   "outputs": [],
   "source": [
    "import pandas as pd\n",
    "import numpy as np\n",
    "import tensorflow as tf\n",
    "from tensorflow import keras"
   ]
  },
  {
   "cell_type": "code",
   "execution_count": 2,
   "metadata": {},
   "outputs": [],
   "source": [
    "data=pd.read_csv('test_data_set_1.csv',header=0)"
   ]
  },
  {
   "cell_type": "code",
   "execution_count": 3,
   "metadata": {},
   "outputs": [],
   "source": [
    "# Divide data into training and validation/test\n",
    "# Tensorflow doesn't provide data pre-processing therefore we are going to use sklearn library\n",
    "# sklearn provide handling 2-tuple form \n",
    "from sklearn.model_selection import train_test_split\n",
    "train, test = train_test_split(data,test_size=0.2)"
   ]
  },
  {
   "cell_type": "code",
   "execution_count": 4,
   "metadata": {},
   "outputs": [],
   "source": [
    "#  data.iloc[min_row:max_row, min_col:max_col] or  data.iloc[min_row:max_row, directly specific col]\n",
    "#data_features=data.iloc[:,:-1]\n",
    "#data_labels=data.iloc[:,-1]\n",
    "\n",
    "train_features=train.iloc[:,:-1]\n",
    "train_labels=train.iloc[:,-1]\n",
    "\n",
    "test_features=test.iloc[:,:-1]\n",
    "test_labels=test.iloc[:,-1]"
   ]
  },
  {
   "cell_type": "code",
   "execution_count": 5,
   "metadata": {},
   "outputs": [],
   "source": [
    "# Normalizing data\n",
    "# This step is not necessary but highly recommended when we use NN\n",
    "\n",
    "from sklearn.pipeline import Pipeline\n",
    "# creating a generic pipline class\n",
    "from sklearn.preprocessing import StandardScaler\n",
    "# This is a function in sklearn which scales arrays or data-frames\n",
    "# from sklearn.impute import SimpleImputer\n",
    "# This one will handle if there are null cells in the data-frame\n",
    "# With the imputers we can define how we want to replace those null cells"
   ]
  },
  {
   "cell_type": "code",
   "execution_count": 6,
   "metadata": {},
   "outputs": [],
   "source": [
    "# Instantiation of the pipeline class. So the default would be Pipeline(here we want to define which methods to be used)\n",
    "pipe = Pipeline([('scalar',StandardScaler())])\n",
    "# Pipeline() -> Pipeline([]) because pipelines takes one array of 2-tuples and [] can take n tuples\n",
    "\n",
    "train_features_norm = pipe.fit_transform(train_features)\n",
    "test_features_norm = pipe.fit_transform(test_features)\n",
    "# This won't modify train or test features"
   ]
  },
  {
   "cell_type": "code",
   "execution_count": 7,
   "metadata": {},
   "outputs": [],
   "source": [
    "# We are going to use sequential model\n",
    "def create_model():\n",
    "    model = keras.models.Sequential()\n",
    "    # 1- nodes, 2-\n",
    "    model.add(keras.layers.Dense(8,input_dim = 3, activation = 'relu'))\n",
    "    #odel.add(keras.layers.Dense(1, activation = 'sigmoid'))\n",
    "    model.add(keras.layers.Dense(1, activation = 'linear'))\n",
    "    sgd = tf.optimizers.SGD(learning_rate=0.01, name = 'sgd')\n",
    "    #dg=tf.optimizers.SDG(learning_rate=0.01, momentum=0.0, nesterov=False, name='SGD')\n",
    "    model.compile(optimizer = sgd, loss = 'mean_squared_error')\n",
    "    return model\n",
    "\n",
    "# Decide activation function of the output layer should match the domain of what it's going to projects to"
   ]
  },
  {
   "cell_type": "code",
   "execution_count": 8,
   "metadata": {},
   "outputs": [
    {
     "name": "stdout",
     "output_type": "stream",
     "text": [
      "Model: \"sequential\"\n",
      "_________________________________________________________________\n",
      "Layer (type)                 Output Shape              Param #   \n",
      "=================================================================\n",
      "dense (Dense)                (None, 8)                 32        \n",
      "_________________________________________________________________\n",
      "dense_1 (Dense)              (None, 1)                 9         \n",
      "=================================================================\n",
      "Total params: 41\n",
      "Trainable params: 41\n",
      "Non-trainable params: 0\n",
      "_________________________________________________________________\n"
     ]
    }
   ],
   "source": [
    "create_model().summary()\n",
    "#keras.optimizers.SGD(learning_rate=0.01, name = 'sgd')"
   ]
  },
  {
   "cell_type": "markdown",
   "metadata": {},
   "source": [
    "model = create_model()"
   ]
  },
  {
   "cell_type": "code",
   "execution_count": 9,
   "metadata": {},
   "outputs": [],
   "source": [
    "model = create_model()"
   ]
  },
  {
   "cell_type": "code",
   "execution_count": 10,
   "metadata": {},
   "outputs": [
    {
     "name": "stdout",
     "output_type": "stream",
     "text": [
      "Epoch 1/60\n",
      "2/2 [==============================] - 0s 997us/step - loss: 148.9133\n",
      "Epoch 2/60\n",
      "2/2 [==============================] - 0s 2ms/step - loss: 125.4697\n",
      "Epoch 3/60\n",
      "2/2 [==============================] - 0s 998us/step - loss: 109.0167\n",
      "Epoch 4/60\n",
      "2/2 [==============================] - 0s 2ms/step - loss: 84.8276\n",
      "Epoch 5/60\n",
      "2/2 [==============================] - 0s 997us/step - loss: 46.8365\n",
      "Epoch 6/60\n",
      "2/2 [==============================] - 0s 997us/step - loss: 13.3305\n",
      "Epoch 7/60\n",
      "2/2 [==============================] - 0s 3ms/step - loss: 2.5947\n",
      "Epoch 8/60\n",
      "2/2 [==============================] - 0s 2ms/step - loss: 1.2084\n",
      "Epoch 9/60\n",
      "2/2 [==============================] - 0s 998us/step - loss: 1.0751\n",
      "Epoch 10/60\n",
      "2/2 [==============================] - 0s 998us/step - loss: 1.0660\n",
      "Epoch 11/60\n",
      "2/2 [==============================] - 0s 2ms/step - loss: 0.9734\n",
      "Epoch 12/60\n",
      "2/2 [==============================] - 0s 2ms/step - loss: 0.9149\n",
      "Epoch 13/60\n",
      "2/2 [==============================] - 0s 996us/step - loss: 0.8573\n",
      "Epoch 14/60\n",
      "2/2 [==============================] - 0s 997us/step - loss: 0.8771\n",
      "Epoch 15/60\n",
      "2/2 [==============================] - 0s 999us/step - loss: 0.8524\n",
      "Epoch 16/60\n",
      "2/2 [==============================] - 0s 3ms/step - loss: 0.8375\n",
      "Epoch 17/60\n",
      "2/2 [==============================] - 0s 2ms/step - loss: 0.8176\n",
      "Epoch 18/60\n",
      "2/2 [==============================] - 0s 2ms/step - loss: 0.8051\n",
      "Epoch 19/60\n",
      "2/2 [==============================] - 0s 997us/step - loss: 0.7559\n",
      "Epoch 20/60\n",
      "2/2 [==============================] - 0s 998us/step - loss: 0.7478\n",
      "Epoch 21/60\n",
      "2/2 [==============================] - 0s 997us/step - loss: 0.7697\n",
      "Epoch 22/60\n",
      "2/2 [==============================] - 0s 997us/step - loss: 0.7088\n",
      "Epoch 23/60\n",
      "2/2 [==============================] - 0s 998us/step - loss: 0.6852\n",
      "Epoch 24/60\n",
      "2/2 [==============================] - 0s 2ms/step - loss: 0.6612\n",
      "Epoch 25/60\n",
      "2/2 [==============================] - 0s 6ms/step - loss: 0.6696\n",
      "Epoch 26/60\n",
      "2/2 [==============================] - 0s 2ms/step - loss: 0.6601\n",
      "Epoch 27/60\n",
      "2/2 [==============================] - 0s 998us/step - loss: 0.6567\n",
      "Epoch 28/60\n",
      "2/2 [==============================] - 0s 2ms/step - loss: 0.6608\n",
      "Epoch 29/60\n",
      "2/2 [==============================] - 0s 993us/step - loss: 0.5922\n",
      "Epoch 30/60\n",
      "2/2 [==============================] - 0s 997us/step - loss: 0.6506\n",
      "Epoch 31/60\n",
      "2/2 [==============================] - 0s 2ms/step - loss: 0.6520\n",
      "Epoch 32/60\n",
      "2/2 [==============================] - 0s 2ms/step - loss: 0.5735\n",
      "Epoch 33/60\n",
      "2/2 [==============================] - 0s 2ms/step - loss: 0.5932\n",
      "Epoch 34/60\n",
      "2/2 [==============================] - 0s 2ms/step - loss: 0.5684\n",
      "Epoch 35/60\n",
      "2/2 [==============================] - 0s 998us/step - loss: 0.5922\n",
      "Epoch 36/60\n",
      "2/2 [==============================] - 0s 1000us/step - loss: 0.5801\n",
      "Epoch 37/60\n",
      "2/2 [==============================] - 0s 5ms/step - loss: 0.5739\n",
      "Epoch 38/60\n",
      "2/2 [==============================] - 0s 3ms/step - loss: 0.5784\n",
      "Epoch 39/60\n",
      "2/2 [==============================] - 0s 2ms/step - loss: 0.5350\n",
      "Epoch 40/60\n",
      "2/2 [==============================] - 0s 998us/step - loss: 0.5664\n",
      "Epoch 41/60\n",
      "2/2 [==============================] - 0s 2ms/step - loss: 0.5350\n",
      "Epoch 42/60\n",
      "2/2 [==============================] - 0s 3ms/step - loss: 0.5696\n",
      "Epoch 43/60\n",
      "2/2 [==============================] - 0s 2ms/step - loss: 0.5360\n",
      "Epoch 44/60\n",
      "2/2 [==============================] - 0s 995us/step - loss: 0.5596\n",
      "Epoch 45/60\n",
      "2/2 [==============================] - 0s 997us/step - loss: 0.5177\n",
      "Epoch 46/60\n",
      "2/2 [==============================] - 0s 3ms/step - loss: 0.5461\n",
      "Epoch 47/60\n",
      "2/2 [==============================] - 0s 3ms/step - loss: 0.5310\n",
      "Epoch 48/60\n",
      "2/2 [==============================] - 0s 998us/step - loss: 0.5504\n",
      "Epoch 49/60\n",
      "2/2 [==============================] - 0s 2ms/step - loss: 0.6071\n",
      "Epoch 50/60\n",
      "2/2 [==============================] - 0s 3ms/step - loss: 0.5588\n",
      "Epoch 51/60\n",
      "2/2 [==============================] - 0s 997us/step - loss: 0.5704\n",
      "Epoch 52/60\n",
      "2/2 [==============================] - 0s 997us/step - loss: 0.5120\n",
      "Epoch 53/60\n",
      "2/2 [==============================] - 0s 0s/step - loss: 0.5000\n",
      "Epoch 54/60\n",
      "2/2 [==============================] - 0s 997us/step - loss: 0.5428\n",
      "Epoch 55/60\n",
      "2/2 [==============================] - 0s 2ms/step - loss: 0.5280\n",
      "Epoch 56/60\n",
      "2/2 [==============================] - 0s 2ms/step - loss: 0.5501\n",
      "Epoch 57/60\n",
      "2/2 [==============================] - 0s 2ms/step - loss: 0.5015\n",
      "Epoch 58/60\n",
      "2/2 [==============================] - 0s 2ms/step - loss: 0.5271\n",
      "Epoch 59/60\n",
      "2/2 [==============================] - 0s 0s/step - loss: 0.5348\n",
      "Epoch 60/60\n",
      "2/2 [==============================] - 0s 998us/step - loss: 0.5202\n"
     ]
    },
    {
     "data": {
      "text/plain": [
       "<tensorflow.python.keras.callbacks.History at 0x15fb98cda90>"
      ]
     },
     "execution_count": 10,
     "metadata": {},
     "output_type": "execute_result"
    }
   ],
   "source": [
    "model.fit(train_features_norm,train_labels, epochs=60)"
   ]
  },
  {
   "cell_type": "code",
   "execution_count": 11,
   "metadata": {},
   "outputs": [
    {
     "name": "stdout",
     "output_type": "stream",
     "text": [
      "20     3.963751\n",
      "14     1.947483\n",
      "1      0.000003\n",
      "27     7.227528\n",
      "41    16.712535\n",
      "25     6.194372\n",
      "21     4.369649\n",
      "22     4.795645\n",
      "7      0.454553\n",
      "2      0.001858\n",
      "Name: A, dtype: float64\n"
     ]
    }
   ],
   "source": [
    "model.predict(test_features)\n",
    "print(test_labels)"
   ]
  },
  {
   "cell_type": "code",
   "execution_count": 12,
   "metadata": {},
   "outputs": [
    {
     "name": "stdout",
     "output_type": "stream",
     "text": [
      "2/2 [==============================] - 0s 2ms/step - loss: 568003.3125\n"
     ]
    },
    {
     "data": {
      "text/plain": [
       "568003.3125"
      ]
     },
     "execution_count": 12,
     "metadata": {},
     "output_type": "execute_result"
    }
   ],
   "source": [
    "model.evaluate(train_features,train_labels)"
   ]
  },
  {
   "cell_type": "code",
   "execution_count": 13,
   "metadata": {},
   "outputs": [],
   "source": [
    "##  indepenent variables : x,y,z\n",
    "## dependendent : A\n",
    "## if we enter x=10, y=5, z=100, A=?"
   ]
  },
  {
   "cell_type": "code",
   "execution_count": 19,
   "metadata": {},
   "outputs": [
    {
     "data": {
      "text/plain": [
       "array([[ 477.86288],\n",
       "       [4726.708  ]], dtype=float32)"
      ]
     },
     "execution_count": 19,
     "metadata": {},
     "output_type": "execute_result"
    }
   ],
   "source": [
    "example1=pd.DataFrame([[10,5,100],[100,50,1000]])\n",
    "model.predict(example1)"
   ]
  },
  {
   "cell_type": "code",
   "execution_count": null,
   "metadata": {},
   "outputs": [],
   "source": []
  }
 ],
 "metadata": {
  "kernelspec": {
   "display_name": "Python 3 (ipykernel)",
   "language": "python",
   "name": "python3"
  },
  "language_info": {
   "codemirror_mode": {
    "name": "ipython",
    "version": 3
   },
   "file_extension": ".py",
   "mimetype": "text/x-python",
   "name": "python",
   "nbconvert_exporter": "python",
   "pygments_lexer": "ipython3",
   "version": "3.9.7"
  }
 },
 "nbformat": 4,
 "nbformat_minor": 4
}
