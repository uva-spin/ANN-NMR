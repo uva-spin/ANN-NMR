{
 "cells": [
  {
   "cell_type": "code",
   "execution_count": 1,
   "metadata": {
    "id": "GTtghGM-fvTg"
   },
   "outputs": [],
   "source": [
    "#!pip install tensorflow_transform"
   ]
  },
  {
   "cell_type": "code",
   "execution_count": 17,
   "metadata": {
    "id": "Xx8By4d9VCPK"
   },
   "outputs": [],
   "source": [
    "import pandas as pd\n",
    "import numpy as np\n",
    "import tensorflow as tf\n",
    "from tensorflow import keras\n",
    "#import tensorflow_transform as ttf\n",
    "import h5py as h"
   ]
  },
  {
   "cell_type": "code",
   "execution_count": 2,
   "metadata": {
    "id": "AprewEgAVLDU"
   },
   "outputs": [],
   "source": [
    "data=pd.read_csv('test_data_set_1.csv', header=0)"
   ]
  },
  {
   "cell_type": "code",
   "execution_count": 3,
   "metadata": {
    "id": "Nx_XW-xeVM25"
   },
   "outputs": [],
   "source": [
    "def split_data(X,y,split=0.1):\n",
    "  temp =np.random.choice(list(range(len(y))), size=int(len(y)*split), replace = False)\n",
    "\n",
    "  test_X = pd.DataFrame.from_dict({k: v[temp] for k,v in X.items()})\n",
    "  #train_X = {k: np.delete(v,temp) for k,v in X.items()}\n",
    "  train_X = pd.DataFrame.from_dict({k: v.drop(temp) for k,v in X.items()})\n",
    "\n",
    "  test_y = y[temp]\n",
    "  #train_y =np.delete(y, temp)\n",
    "  train_y = y.drop(temp)\n",
    "\n",
    "  return train_X, test_X, train_y, test_y\n",
    "\n",
    "\n",
    "#dd=data.drop(['A','x'], axis = 1)\n",
    "y = data['A']\n",
    "X = data.drop(['A'], axis = 1)\n",
    "train_X, test_X, train_y, test_y = split_data(X,y)"
   ]
  },
  {
   "cell_type": "code",
   "execution_count": 12,
   "metadata": {
    "id": "MBKp9Hw2YRaP"
   },
   "outputs": [],
   "source": [
    "def create_model():\n",
    "    input = tf.keras.Input(shape=(3))\n",
    "    layer = tf.keras.layers.Dense(8, activation = 'relu')(input)\n",
    "    output = tf.keras.layers.Dense(1, activation = 'linear')(layer)\n",
    "    model = tf.keras.Model(inputs=[input], outputs=output, name=\"testmodel\")\n",
    "    model.compile(optimizer = tf.keras.optimizers.Adam(.02),\n",
    "                        loss = tf.keras.losses.MeanSquaredError(), metrics=['mean_squared_error'])\n",
    "    return model"
   ]
  },
  {
   "cell_type": "code",
   "execution_count": 13,
   "metadata": {
    "colab": {
     "base_uri": "https://localhost:8080/"
    },
    "id": "AvqqrfD8eL7S",
    "outputId": "54718873-5ffa-4f43-bc92-691c9cf19cc1"
   },
   "outputs": [
    {
     "name": "stdout",
     "output_type": "stream",
     "text": [
      "Model: \"testmodel\"\n",
      "_________________________________________________________________\n",
      " Layer (type)                Output Shape              Param #   \n",
      "=================================================================\n",
      " input_4 (InputLayer)        [(None, 3)]               0         \n",
      "                                                                 \n",
      " dense_6 (Dense)             (None, 8)                 32        \n",
      "                                                                 \n",
      " dense_7 (Dense)             (None, 1)                 9         \n",
      "                                                                 \n",
      "=================================================================\n",
      "Total params: 41\n",
      "Trainable params: 41\n",
      "Non-trainable params: 0\n",
      "_________________________________________________________________\n"
     ]
    }
   ],
   "source": [
    "model_test = create_model()\n",
    "model_test.summary()"
   ]
  },
  {
   "cell_type": "code",
   "execution_count": 14,
   "metadata": {
    "colab": {
     "base_uri": "https://localhost:8080/"
    },
    "id": "kbB9yGc-ehF5",
    "outputId": "38a102c3-b891-4c5c-b21d-e8c39740c479"
   },
   "outputs": [
    {
     "name": "stdout",
     "output_type": "stream",
     "text": [
      "Epoch 1/50\n",
      "2/2 [==============================] - 1s 200ms/step - loss: 8667.7725 - mean_squared_error: 8667.7725 - val_loss: 5181.2275 - val_mean_squared_error: 5181.2275\n",
      "Epoch 2/50\n",
      "2/2 [==============================] - 0s 49ms/step - loss: 5445.7212 - mean_squared_error: 5445.7212 - val_loss: 3117.3047 - val_mean_squared_error: 3117.3047\n",
      "Epoch 3/50\n",
      "2/2 [==============================] - 0s 69ms/step - loss: 3191.8542 - mean_squared_error: 3191.8542 - val_loss: 1696.6449 - val_mean_squared_error: 1696.6449\n",
      "Epoch 4/50\n",
      "2/2 [==============================] - 0s 55ms/step - loss: 1717.1595 - mean_squared_error: 1717.1595 - val_loss: 794.3433 - val_mean_squared_error: 794.3433\n",
      "Epoch 5/50\n",
      "2/2 [==============================] - 0s 65ms/step - loss: 750.6425 - mean_squared_error: 750.6425 - val_loss: 285.0132 - val_mean_squared_error: 285.0132\n",
      "Epoch 6/50\n",
      "2/2 [==============================] - 0s 68ms/step - loss: 221.8351 - mean_squared_error: 221.8351 - val_loss: 52.2383 - val_mean_squared_error: 52.2383\n",
      "Epoch 7/50\n",
      "2/2 [==============================] - 0s 47ms/step - loss: 30.1468 - mean_squared_error: 30.1468 - val_loss: 3.6569 - val_mean_squared_error: 3.6569\n",
      "Epoch 8/50\n",
      "2/2 [==============================] - 0s 57ms/step - loss: 28.3307 - mean_squared_error: 28.3307 - val_loss: 57.5814 - val_mean_squared_error: 57.5814\n",
      "Epoch 9/50\n",
      "2/2 [==============================] - 0s 59ms/step - loss: 136.8291 - mean_squared_error: 136.8291 - val_loss: 136.0412 - val_mean_squared_error: 136.0412\n",
      "Epoch 10/50\n",
      "2/2 [==============================] - 0s 63ms/step - loss: 235.0823 - mean_squared_error: 235.0823 - val_loss: 183.1504 - val_mean_squared_error: 183.1504\n",
      "Epoch 11/50\n",
      "2/2 [==============================] - 0s 67ms/step - loss: 293.2088 - mean_squared_error: 293.2088 - val_loss: 187.3499 - val_mean_squared_error: 187.3499\n",
      "Epoch 12/50\n",
      "2/2 [==============================] - 0s 71ms/step - loss: 292.9516 - mean_squared_error: 292.9516 - val_loss: 158.5037 - val_mean_squared_error: 158.5037\n",
      "Epoch 13/50\n",
      "2/2 [==============================] - 0s 64ms/step - loss: 250.2046 - mean_squared_error: 250.2046 - val_loss: 115.5575 - val_mean_squared_error: 115.5575\n",
      "Epoch 14/50\n",
      "2/2 [==============================] - 0s 66ms/step - loss: 190.4284 - mean_squared_error: 190.4284 - val_loss: 72.8971 - val_mean_squared_error: 72.8971\n",
      "Epoch 15/50\n",
      "2/2 [==============================] - 0s 64ms/step - loss: 125.4905 - mean_squared_error: 125.4905 - val_loss: 39.1000 - val_mean_squared_error: 39.1000\n",
      "Epoch 16/50\n",
      "2/2 [==============================] - 0s 53ms/step - loss: 80.5162 - mean_squared_error: 80.5162 - val_loss: 16.5187 - val_mean_squared_error: 16.5187\n",
      "Epoch 17/50\n",
      "2/2 [==============================] - 0s 52ms/step - loss: 43.5364 - mean_squared_error: 43.5364 - val_loss: 5.3361 - val_mean_squared_error: 5.3361\n",
      "Epoch 18/50\n",
      "2/2 [==============================] - 0s 63ms/step - loss: 21.2321 - mean_squared_error: 21.2321 - val_loss: 2.4591 - val_mean_squared_error: 2.4591\n",
      "Epoch 19/50\n",
      "2/2 [==============================] - 0s 64ms/step - loss: 10.4409 - mean_squared_error: 10.4409 - val_loss: 4.8263 - val_mean_squared_error: 4.8263\n",
      "Epoch 20/50\n",
      "2/2 [==============================] - 0s 72ms/step - loss: 7.6427 - mean_squared_error: 7.6427 - val_loss: 9.8850 - val_mean_squared_error: 9.8850\n",
      "Epoch 21/50\n",
      "2/2 [==============================] - 0s 64ms/step - loss: 8.7523 - mean_squared_error: 8.7523 - val_loss: 15.6413 - val_mean_squared_error: 15.6413\n",
      "Epoch 22/50\n",
      "2/2 [==============================] - 0s 62ms/step - loss: 11.2472 - mean_squared_error: 11.2472 - val_loss: 20.7511 - val_mean_squared_error: 20.7511\n",
      "Epoch 23/50\n",
      "2/2 [==============================] - 0s 67ms/step - loss: 14.4322 - mean_squared_error: 14.4322 - val_loss: 24.5447 - val_mean_squared_error: 24.5447\n",
      "Epoch 24/50\n",
      "2/2 [==============================] - 0s 62ms/step - loss: 16.6744 - mean_squared_error: 16.6744 - val_loss: 26.6993 - val_mean_squared_error: 26.6993\n",
      "Epoch 25/50\n",
      "2/2 [==============================] - 0s 65ms/step - loss: 18.1120 - mean_squared_error: 18.1120 - val_loss: 27.3668 - val_mean_squared_error: 27.3668\n",
      "Epoch 26/50\n",
      "2/2 [==============================] - 0s 59ms/step - loss: 18.4702 - mean_squared_error: 18.4702 - val_loss: 26.7038 - val_mean_squared_error: 26.7038\n",
      "Epoch 27/50\n",
      "2/2 [==============================] - 0s 55ms/step - loss: 17.8637 - mean_squared_error: 17.8637 - val_loss: 24.9783 - val_mean_squared_error: 24.9783\n",
      "Epoch 28/50\n",
      "2/2 [==============================] - 0s 59ms/step - loss: 16.5574 - mean_squared_error: 16.5574 - val_loss: 22.5120 - val_mean_squared_error: 22.5120\n",
      "Epoch 29/50\n",
      "2/2 [==============================] - 0s 67ms/step - loss: 14.8639 - mean_squared_error: 14.8639 - val_loss: 19.6809 - val_mean_squared_error: 19.6809\n",
      "Epoch 30/50\n",
      "2/2 [==============================] - 0s 65ms/step - loss: 13.0268 - mean_squared_error: 13.0268 - val_loss: 16.8092 - val_mean_squared_error: 16.8092\n",
      "Epoch 31/50\n",
      "2/2 [==============================] - 0s 62ms/step - loss: 11.2658 - mean_squared_error: 11.2658 - val_loss: 14.1023 - val_mean_squared_error: 14.1023\n",
      "Epoch 32/50\n",
      "2/2 [==============================] - 0s 68ms/step - loss: 9.8021 - mean_squared_error: 9.8021 - val_loss: 11.6719 - val_mean_squared_error: 11.6719\n",
      "Epoch 33/50\n",
      "2/2 [==============================] - 0s 65ms/step - loss: 8.7367 - mean_squared_error: 8.7367 - val_loss: 9.5993 - val_mean_squared_error: 9.5993\n",
      "Epoch 34/50\n",
      "2/2 [==============================] - 0s 62ms/step - loss: 7.9938 - mean_squared_error: 7.9938 - val_loss: 7.9336 - val_mean_squared_error: 7.9336\n",
      "Epoch 35/50\n",
      "2/2 [==============================] - 0s 67ms/step - loss: 7.5722 - mean_squared_error: 7.5722 - val_loss: 6.6510 - val_mean_squared_error: 6.6510\n",
      "Epoch 36/50\n",
      "2/2 [==============================] - 0s 65ms/step - loss: 7.3811 - mean_squared_error: 7.3811 - val_loss: 5.6984 - val_mean_squared_error: 5.6984\n",
      "Epoch 37/50\n",
      "2/2 [==============================] - 0s 75ms/step - loss: 7.4396 - mean_squared_error: 7.4396 - val_loss: 5.0122 - val_mean_squared_error: 5.0122\n",
      "Epoch 38/50\n",
      "2/2 [==============================] - 0s 63ms/step - loss: 7.5121 - mean_squared_error: 7.5121 - val_loss: 4.5533 - val_mean_squared_error: 4.5533\n",
      "Epoch 39/50\n",
      "2/2 [==============================] - 0s 62ms/step - loss: 7.7298 - mean_squared_error: 7.7298 - val_loss: 4.2640 - val_mean_squared_error: 4.2640\n",
      "Epoch 40/50\n",
      "2/2 [==============================] - 0s 51ms/step - loss: 7.7953 - mean_squared_error: 7.7953 - val_loss: 4.1517 - val_mean_squared_error: 4.1517\n",
      "Epoch 41/50\n",
      "2/2 [==============================] - 0s 60ms/step - loss: 7.8474 - mean_squared_error: 7.8474 - val_loss: 4.1489 - val_mean_squared_error: 4.1489\n",
      "Epoch 42/50\n",
      "2/2 [==============================] - 0s 62ms/step - loss: 7.8268 - mean_squared_error: 7.8268 - val_loss: 4.2562 - val_mean_squared_error: 4.2562\n",
      "Epoch 43/50\n",
      "2/2 [==============================] - 0s 66ms/step - loss: 7.7662 - mean_squared_error: 7.7662 - val_loss: 4.4304 - val_mean_squared_error: 4.4304\n",
      "Epoch 44/50\n",
      "2/2 [==============================] - 0s 70ms/step - loss: 7.7004 - mean_squared_error: 7.7004 - val_loss: 4.6328 - val_mean_squared_error: 4.6328\n",
      "Epoch 45/50\n",
      "2/2 [==============================] - 0s 68ms/step - loss: 7.5758 - mean_squared_error: 7.5758 - val_loss: 4.8356 - val_mean_squared_error: 4.8356\n",
      "Epoch 46/50\n",
      "2/2 [==============================] - 0s 64ms/step - loss: 7.4878 - mean_squared_error: 7.4878 - val_loss: 5.1008 - val_mean_squared_error: 5.1008\n",
      "Epoch 47/50\n",
      "2/2 [==============================] - 0s 66ms/step - loss: 7.4445 - mean_squared_error: 7.4445 - val_loss: 5.4261 - val_mean_squared_error: 5.4261\n",
      "Epoch 48/50\n",
      "2/2 [==============================] - 0s 72ms/step - loss: 7.3600 - mean_squared_error: 7.3600 - val_loss: 5.7413 - val_mean_squared_error: 5.7413\n",
      "Epoch 49/50\n",
      "2/2 [==============================] - 0s 54ms/step - loss: 7.3253 - mean_squared_error: 7.3253 - val_loss: 6.0705 - val_mean_squared_error: 6.0705\n",
      "Epoch 50/50\n",
      "2/2 [==============================] - 0s 65ms/step - loss: 7.3228 - mean_squared_error: 7.3228 - val_loss: 6.3822 - val_mean_squared_error: 6.3822\n"
     ]
    },
    {
     "data": {
      "text/plain": [
       "<keras.callbacks.History at 0x7f9cc693e100>"
      ]
     },
     "execution_count": 14,
     "metadata": {},
     "output_type": "execute_result"
    }
   ],
   "source": [
    "model_test.fit(train_X,train_y, validation_data = (test_X, test_y), epochs = 50)"
   ]
  },
  {
   "cell_type": "code",
   "execution_count": 8,
   "metadata": {
    "id": "6W2ICug4h8jW"
   },
   "outputs": [],
   "source": [
    "model_test.save('trained_model.h5', save_format='h5')"
   ]
  },
  {
   "cell_type": "code",
   "execution_count": 15,
   "metadata": {
    "id": "qA1AC7zmkF9G"
   },
   "outputs": [
    {
     "name": "stdout",
     "output_type": "stream",
     "text": [
      "Keys: <KeysViewHDF5 ['model_weights', 'optimizer_weights']>\n",
      "['dense', 'dense_1', 'input_1', 'top_level_model_weights']\n"
     ]
    }
   ],
   "source": [
    "import h5py\n",
    "filename = 'trained_model.h5'\n",
    "\n",
    "with h5py.File(filename, \"r\") as f:\n",
    "    # List all groups\n",
    "    print(\"Keys: %s\" % f.keys())\n",
    "    a_group_key = list(f.keys())[0]\n",
    "\n",
    "    # Get the data\n",
    "    data = list(f[a_group_key])\n",
    "    print(data)"
   ]
  },
  {
   "cell_type": "code",
   "execution_count": 19,
   "metadata": {},
   "outputs": [
    {
     "ename": "TypeError",
     "evalue": "list indices must be integers or slices, not str",
     "output_type": "error",
     "traceback": [
      "\u001b[0;31m---------------------------------------------------------------------------\u001b[0m",
      "\u001b[0;31mTypeError\u001b[0m                                 Traceback (most recent call last)",
      "\u001b[0;32m/tmp/ipykernel_3303/508998572.py\u001b[0m in \u001b[0;36m<module>\u001b[0;34m\u001b[0m\n\u001b[0;32m----> 1\u001b[0;31m \u001b[0mdata\u001b[0m\u001b[0;34m[\u001b[0m\u001b[0;34m'dense'\u001b[0m\u001b[0;34m]\u001b[0m\u001b[0;34m\u001b[0m\u001b[0;34m\u001b[0m\u001b[0m\n\u001b[0m",
      "\u001b[0;31mTypeError\u001b[0m: list indices must be integers or slices, not str"
     ]
    }
   ],
   "source": [
    "data['dense']"
   ]
  },
  {
   "cell_type": "code",
   "execution_count": 20,
   "metadata": {},
   "outputs": [
    {
     "name": "stdout",
     "output_type": "stream",
     "text": [
      "model_weights\n",
      "    backend: tensorflow\n",
      "    keras_version: 2.8.0\n",
      "    layer_names: ['input_1' 'dense' 'dense_1']\n",
      "model_weights/dense\n",
      "    weight_names: ['dense/kernel:0' 'dense/bias:0']\n",
      "model_weights/dense/dense\n",
      "model_weights/dense/dense/bias:0\n",
      "model_weights/dense/dense/kernel:0\n",
      "model_weights/dense_1\n",
      "    weight_names: ['dense_1/kernel:0' 'dense_1/bias:0']\n",
      "model_weights/dense_1/dense_1\n",
      "model_weights/dense_1/dense_1/bias:0\n",
      "model_weights/dense_1/dense_1/kernel:0\n",
      "model_weights/input_1\n",
      "    weight_names: []\n",
      "model_weights/top_level_model_weights\n",
      "    weight_names: []\n",
      "optimizer_weights\n",
      "    weight_names: ['Adam/iter:0' 'Adam/dense/kernel/m:0' 'Adam/dense/bias/m:0'\n",
      " 'Adam/dense_1/kernel/m:0' 'Adam/dense_1/bias/m:0' 'Adam/dense/kernel/v:0'\n",
      " 'Adam/dense/bias/v:0' 'Adam/dense_1/kernel/v:0' 'Adam/dense_1/bias/v:0']\n",
      "optimizer_weights/Adam\n",
      "optimizer_weights/Adam/dense\n",
      "optimizer_weights/Adam/dense/bias\n",
      "optimizer_weights/Adam/dense/bias/m:0\n",
      "optimizer_weights/Adam/dense/bias/v:0\n",
      "optimizer_weights/Adam/dense/kernel\n",
      "optimizer_weights/Adam/dense/kernel/m:0\n",
      "optimizer_weights/Adam/dense/kernel/v:0\n",
      "optimizer_weights/Adam/dense_1\n",
      "optimizer_weights/Adam/dense_1/bias\n",
      "optimizer_weights/Adam/dense_1/bias/m:0\n",
      "optimizer_weights/Adam/dense_1/bias/v:0\n",
      "optimizer_weights/Adam/dense_1/kernel\n",
      "optimizer_weights/Adam/dense_1/kernel/m:0\n",
      "optimizer_weights/Adam/dense_1/kernel/v:0\n",
      "optimizer_weights/Adam/iter:0\n"
     ]
    }
   ],
   "source": [
    "def print_attrs(name, obj):\n",
    "    print(name)\n",
    "    for key, val in obj.attrs.items():\n",
    "        print(\"    %s: %s\" % (key, val))\n",
    "\n",
    "f = h5py.File(filename, 'r')\n",
    "f.visititems(print_attrs)"
   ]
  },
  {
   "cell_type": "code",
   "execution_count": null,
   "metadata": {},
   "outputs": [],
   "source": []
  }
 ],
 "metadata": {
  "colab": {
   "collapsed_sections": [],
   "name": "Example_02.ipynb",
   "provenance": []
  },
  "kernelspec": {
   "display_name": "Python 3 (ipykernel)",
   "language": "python",
   "name": "python3"
  },
  "language_info": {
   "codemirror_mode": {
    "name": "ipython",
    "version": 3
   },
   "file_extension": ".py",
   "mimetype": "text/x-python",
   "name": "python",
   "nbconvert_exporter": "python",
   "pygments_lexer": "ipython3",
   "version": "3.9.7"
  }
 },
 "nbformat": 4,
 "nbformat_minor": 1
}
