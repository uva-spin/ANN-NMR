{
 "cells": [
  {
   "cell_type": "code",
   "execution_count": 1,
   "metadata": {
    "id": "FZ0L7j9JUbRm"
   },
   "outputs": [
    {
     "name": "stderr",
     "output_type": "stream",
     "text": [
      "2022-05-01 14:21:59.286462: W tensorflow/stream_executor/platform/default/dso_loader.cc:64] Could not load dynamic library 'libcudart.so.11.0'; dlerror: libcudart.so.11.0: cannot open shared object file: No such file or directory; LD_LIBRARY_PATH: :/home/aristobot/LHAPDF/lib\n",
      "2022-05-01 14:21:59.286496: I tensorflow/stream_executor/cuda/cudart_stub.cc:29] Ignore above cudart dlerror if you do not have a GPU set up on your machine.\n"
     ]
    }
   ],
   "source": [
    "import tensorflow as tf\n",
    "from tensorflow import keras\n",
    "# Basic Template (a layer that takes one input and adds 1 to it): \n",
    "\n",
    "class AdditionLayer(tf.keras.layers.Layer):\n",
    "    def __init__(self):\n",
    "        super(AdditionLayer, self).__init__()\n",
    "\t\t\n",
    "    def call(self, first_input, training=False):\n",
    "        output = first_input + 1\n",
    "        return output"
   ]
  },
  {
   "cell_type": "code",
   "execution_count": 2,
   "metadata": {
    "id": "DKjK4wDgWtmr"
   },
   "outputs": [],
   "source": [
    "#Adding this layer onto an example model\n",
    "def create_model():\n",
    "    model = keras.models.Sequential()\n",
    "    model.add(keras.layers.Dense(16, input_dim = 3, activation = 'relu')) # Hidden Layer\n",
    "    model.add(keras.layers.Dense(1, activation = 'linear')) # Output Layer\n",
    "    model.add(AdditionLayer())\n",
    "    sgd = tf.optimizers.SGD(learning_rate=0.01, name = 'sgd')\n",
    "    model.compile(optimizer = sgd, loss = 'mean_squared_error')\n",
    "    return model"
   ]
  },
  {
   "cell_type": "code",
   "execution_count": 3,
   "metadata": {
    "id": "5L8Z8_5RkcoR"
   },
   "outputs": [],
   "source": [
    "import pandas as pd\n",
    "import numpy as np\n",
    "from sklearn.model_selection import train_test_split\n",
    "\n",
    "data=pd.read_csv('test_data_set_1.csv',header=0)\n",
    "\n",
    "train, test = train_test_split(data,test_size=0.3)\n",
    "\n",
    "train_features=train.iloc[:,:-1]\n",
    "train_labels=train.iloc[:,-1]\n",
    "\n",
    "test_features=test.iloc[:,:-1]\n",
    "test_labels=test.iloc[:,-1]"
   ]
  },
  {
   "cell_type": "code",
   "execution_count": 4,
   "metadata": {
    "colab": {
     "base_uri": "https://localhost:8080/"
    },
    "id": "yAa-4delk24O",
    "outputId": "ceed581e-a16c-4b49-a994-e9db896f158c"
   },
   "outputs": [
    {
     "name": "stdout",
     "output_type": "stream",
     "text": [
      "Epoch 1/50\n"
     ]
    },
    {
     "name": "stderr",
     "output_type": "stream",
     "text": [
      "2022-05-01 14:22:30.276579: W tensorflow/stream_executor/platform/default/dso_loader.cc:64] Could not load dynamic library 'libcuda.so.1'; dlerror: libcuda.so.1: cannot open shared object file: No such file or directory; LD_LIBRARY_PATH: :/home/aristobot/LHAPDF/lib\n",
      "2022-05-01 14:22:30.276610: W tensorflow/stream_executor/cuda/cuda_driver.cc:269] failed call to cuInit: UNKNOWN ERROR (303)\n",
      "2022-05-01 14:22:30.276628: I tensorflow/stream_executor/cuda/cuda_diagnostics.cc:156] kernel driver does not appear to be running on this host (aristobot-VirtualBox): /proc/driver/nvidia/version does not exist\n",
      "2022-05-01 14:22:30.276855: I tensorflow/core/platform/cpu_feature_guard.cc:151] This TensorFlow binary is optimized with oneAPI Deep Neural Network Library (oneDNN) to use the following CPU instructions in performance-critical operations:  AVX2\n",
      "To enable them in other operations, rebuild TensorFlow with the appropriate compiler flags.\n"
     ]
    },
    {
     "name": "stdout",
     "output_type": "stream",
     "text": [
      "1/1 [==============================] - 1s 611ms/step - loss: 6992.9526 - val_loss: 1860634673152.0000\n",
      "Epoch 2/50\n",
      "1/1 [==============================] - 0s 45ms/step - loss: 2363543519232.0000 - val_loss: 760306368.0000\n",
      "Epoch 3/50\n",
      "1/1 [==============================] - 0s 66ms/step - loss: 760195776.0000 - val_loss: 730200320.0000\n",
      "Epoch 4/50\n",
      "1/1 [==============================] - 0s 67ms/step - loss: 730092032.0000 - val_loss: 701286528.0000\n",
      "Epoch 5/50\n",
      "1/1 [==============================] - 0s 60ms/step - loss: 701180352.0000 - val_loss: 673517696.0000\n",
      "Epoch 6/50\n",
      "1/1 [==============================] - 0s 75ms/step - loss: 673413696.0000 - val_loss: 646848448.0000\n",
      "Epoch 7/50\n",
      "1/1 [==============================] - 0s 75ms/step - loss: 646746496.0000 - val_loss: 621235200.0000\n",
      "Epoch 8/50\n",
      "1/1 [==============================] - 0s 74ms/step - loss: 621135296.0000 - val_loss: 596636288.0000\n",
      "Epoch 9/50\n",
      "1/1 [==============================] - 0s 71ms/step - loss: 596538432.0000 - val_loss: 573011456.0000\n",
      "Epoch 10/50\n",
      "1/1 [==============================] - 0s 65ms/step - loss: 572915520.0000 - val_loss: 550322048.0000\n",
      "Epoch 11/50\n",
      "1/1 [==============================] - 0s 84ms/step - loss: 550228032.0000 - val_loss: 528531168.0000\n",
      "Epoch 12/50\n",
      "1/1 [==============================] - 0s 74ms/step - loss: 528439040.0000 - val_loss: 507603168.0000\n",
      "Epoch 13/50\n",
      "1/1 [==============================] - 0s 67ms/step - loss: 507512832.0000 - val_loss: 487503840.0000\n",
      "Epoch 14/50\n",
      "1/1 [==============================] - 0s 63ms/step - loss: 487415360.0000 - val_loss: 468200480.0000\n",
      "Epoch 15/50\n",
      "1/1 [==============================] - 0s 67ms/step - loss: 468113728.0000 - val_loss: 449661408.0000\n",
      "Epoch 16/50\n",
      "1/1 [==============================] - 0s 63ms/step - loss: 449576416.0000 - val_loss: 431856512.0000\n",
      "Epoch 17/50\n",
      "1/1 [==============================] - 0s 63ms/step - loss: 431773152.0000 - val_loss: 414756576.0000\n",
      "Epoch 18/50\n",
      "1/1 [==============================] - 0s 63ms/step - loss: 414674944.0000 - val_loss: 398333792.0000\n",
      "Epoch 19/50\n",
      "1/1 [==============================] - 0s 64ms/step - loss: 398253824.0000 - val_loss: 382561408.0000\n",
      "Epoch 20/50\n",
      "1/1 [==============================] - 0s 78ms/step - loss: 382483040.0000 - val_loss: 367413536.0000\n",
      "Epoch 21/50\n",
      "1/1 [==============================] - 0s 60ms/step - loss: 367336672.0000 - val_loss: 352865472.0000\n",
      "Epoch 22/50\n",
      "1/1 [==============================] - 0s 54ms/step - loss: 352790208.0000 - val_loss: 338893504.0000\n",
      "Epoch 23/50\n",
      "1/1 [==============================] - 0s 55ms/step - loss: 338819712.0000 - val_loss: 325474752.0000\n",
      "Epoch 24/50\n",
      "1/1 [==============================] - 0s 56ms/step - loss: 325402464.0000 - val_loss: 312587424.0000\n",
      "Epoch 25/50\n",
      "1/1 [==============================] - 0s 47ms/step - loss: 312516544.0000 - val_loss: 300210368.0000\n",
      "Epoch 26/50\n",
      "1/1 [==============================] - 0s 70ms/step - loss: 300140896.0000 - val_loss: 288323360.0000\n",
      "Epoch 27/50\n",
      "1/1 [==============================] - 0s 62ms/step - loss: 288255296.0000 - val_loss: 276907072.0000\n",
      "Epoch 28/50\n",
      "1/1 [==============================] - 0s 51ms/step - loss: 276840384.0000 - val_loss: 265942816.0000\n",
      "Epoch 29/50\n",
      "1/1 [==============================] - 0s 62ms/step - loss: 265877472.0000 - val_loss: 255412768.0000\n",
      "Epoch 30/50\n",
      "1/1 [==============================] - 0s 55ms/step - loss: 255348736.0000 - val_loss: 245299680.0000\n",
      "Epoch 31/50\n",
      "1/1 [==============================] - 0s 54ms/step - loss: 245236912.0000 - val_loss: 235587024.0000\n",
      "Epoch 32/50\n",
      "1/1 [==============================] - 0s 55ms/step - loss: 235525536.0000 - val_loss: 226258992.0000\n",
      "Epoch 33/50\n",
      "1/1 [==============================] - 0s 54ms/step - loss: 226198720.0000 - val_loss: 217300320.0000\n",
      "Epoch 34/50\n",
      "1/1 [==============================] - 0s 56ms/step - loss: 217241264.0000 - val_loss: 208696384.0000\n",
      "Epoch 35/50\n",
      "1/1 [==============================] - 0s 60ms/step - loss: 208638512.0000 - val_loss: 200433136.0000\n",
      "Epoch 36/50\n",
      "1/1 [==============================] - 0s 59ms/step - loss: 200376432.0000 - val_loss: 192497104.0000\n",
      "Epoch 37/50\n",
      "1/1 [==============================] - 0s 69ms/step - loss: 192441536.0000 - val_loss: 184875328.0000\n",
      "Epoch 38/50\n",
      "1/1 [==============================] - 0s 70ms/step - loss: 184820832.0000 - val_loss: 177555328.0000\n",
      "Epoch 39/50\n",
      "1/1 [==============================] - 0s 68ms/step - loss: 177501968.0000 - val_loss: 170525184.0000\n",
      "Epoch 40/50\n",
      "1/1 [==============================] - 0s 67ms/step - loss: 170472880.0000 - val_loss: 163773408.0000\n",
      "Epoch 41/50\n",
      "1/1 [==============================] - 0s 62ms/step - loss: 163722144.0000 - val_loss: 157288976.0000\n",
      "Epoch 42/50\n",
      "1/1 [==============================] - 0s 75ms/step - loss: 157238736.0000 - val_loss: 151061312.0000\n",
      "Epoch 43/50\n",
      "1/1 [==============================] - 0s 48ms/step - loss: 151012064.0000 - val_loss: 145080256.0000\n",
      "Epoch 44/50\n",
      "1/1 [==============================] - 0s 53ms/step - loss: 145032016.0000 - val_loss: 139336032.0000\n",
      "Epoch 45/50\n",
      "1/1 [==============================] - 0s 64ms/step - loss: 139288752.0000 - val_loss: 133819264.0000\n",
      "Epoch 46/50\n",
      "1/1 [==============================] - 0s 67ms/step - loss: 133772920.0000 - val_loss: 128520928.0000\n",
      "Epoch 47/50\n",
      "1/1 [==============================] - 0s 60ms/step - loss: 128475528.0000 - val_loss: 123432384.0000\n",
      "Epoch 48/50\n",
      "1/1 [==============================] - 0s 63ms/step - loss: 123387880.0000 - val_loss: 118545336.0000\n",
      "Epoch 49/50\n",
      "1/1 [==============================] - 0s 72ms/step - loss: 118501728.0000 - val_loss: 113851792.0000\n",
      "Epoch 50/50\n",
      "1/1 [==============================] - 0s 54ms/step - loss: 113809064.0000 - val_loss: 109344120.0000\n"
     ]
    },
    {
     "data": {
      "text/plain": [
       "<keras.callbacks.History at 0x7f2e5f2579d0>"
      ]
     },
     "execution_count": 4,
     "metadata": {},
     "output_type": "execute_result"
    }
   ],
   "source": [
    "# Generate model with untrained weights\n",
    "model = create_model()\n",
    "\n",
    "# Fit the model to training data\n",
    "model.fit(train_features,train_labels, epochs=50, batch_size=32, validation_split=0.1)"
   ]
  },
  {
   "cell_type": "code",
   "execution_count": 5,
   "metadata": {
    "colab": {
     "base_uri": "https://localhost:8080/"
    },
    "id": "cQPCXWpLlGGn",
    "outputId": "bb0c377d-5a2e-4d32-e94c-56fa84e7c734"
   },
   "outputs": [
    {
     "name": "stdout",
     "output_type": "stream",
     "text": [
      "1/1 [==============================] - 0s 46ms/step - loss: 109365112.0000\n"
     ]
    },
    {
     "data": {
      "text/plain": [
       "109365112.0"
      ]
     },
     "execution_count": 5,
     "metadata": {},
     "output_type": "execute_result"
    }
   ],
   "source": [
    "model.evaluate(test_features,test_labels)"
   ]
  },
  {
   "cell_type": "code",
   "execution_count": null,
   "metadata": {},
   "outputs": [],
   "source": []
  }
 ],
 "metadata": {
  "colab": {
   "collapsed_sections": [],
   "name": "Example_04.ipynb",
   "provenance": []
  },
  "kernelspec": {
   "display_name": "Python 3 (ipykernel)",
   "language": "python",
   "name": "python3"
  },
  "language_info": {
   "codemirror_mode": {
    "name": "ipython",
    "version": 3
   },
   "file_extension": ".py",
   "mimetype": "text/x-python",
   "name": "python",
   "nbconvert_exporter": "python",
   "pygments_lexer": "ipython3",
   "version": "3.9.7"
  }
 },
 "nbformat": 4,
 "nbformat_minor": 1
}
